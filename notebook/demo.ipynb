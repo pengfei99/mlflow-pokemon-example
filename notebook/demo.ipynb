{
 "cells": [
  {
   "cell_type": "markdown",
   "id": "2bfd44ca-2047-476a-9e1f-121683407d46",
   "metadata": {},
   "source": [
    "# MLOPs Demo\n",
    "\n",
    "Mlops can help you to train and select a better model"
   ]
  },
  {
   "cell_type": "markdown",
   "id": "29ce31fe-bc30-4bb1-bfc4-ba989df95555",
   "metadata": {},
   "source": [
    "## Step1: Train a model without any mlops tools\n",
    "\n",
    "The first step is to train a simple model (supervise learning/classification, algo:RandomForest) to predict if a pokemon is legendary or not"
   ]
  },
  {
   "cell_type": "code",
   "execution_count": 1,
   "id": "839e35e5-de6b-4de8-ada8-a05968e4a3c1",
   "metadata": {},
   "outputs": [],
   "source": [
    "import numpy as np\n",
    "import pandas as pd\n",
    "from sklearn.ensemble import RandomForestClassifier\n",
    "from sklearn.metrics import confusion_matrix\n",
    "from sklearn.model_selection import train_test_split"
   ]
  },
  {
   "cell_type": "code",
   "execution_count": 2,
   "id": "8046e3f4-deb1-4975-91ab-f56149995b4d",
   "metadata": {},
   "outputs": [],
   "source": [
    "# calculate an accuracy from the confusion matrix\n",
    "def get_model_accuracy(confusion_matrix):\n",
    "    diagonal_sum = confusion_matrix.trace()\n",
    "    sum_of_all_elements = confusion_matrix.sum()\n",
    "    return diagonal_sum / sum_of_all_elements\n",
    "\n",
    "\n",
    "def train_model(data_url:str,n_estimator:int, max_depth:int, min_samples_split:int):\n",
    "    print(data_url)\n",
    "    feature_data, label_data = prepare_data(data_url)\n",
    "    train_X, test_X, train_y, test_y = train_test_split(feature_data, label_data, train_size=0.8, test_size=0.2,\n",
    "                                                        random_state=0)\n",
    "    print(len(test_X))\n",
    "   \n",
    "    # create a random forest classifier\n",
    "    rf_clf = RandomForestClassifier(n_estimators=n_estimator, max_depth=max_depth,\n",
    "                                    min_samples_split=min_samples_split,\n",
    "                                    n_jobs=2, random_state=0)\n",
    "    # train the model with training_data\n",
    "    rf_clf.fit(train_X, train_y)\n",
    "    # predict testing data\n",
    "    predicts_val = rf_clf.predict(test_X)\n",
    "\n",
    "    # Generate a cm\n",
    "    cm = confusion_matrix(test_y, predicts_val)\n",
    "    model_accuracy = get_model_accuracy(cm)\n",
    "    print(\"RandomForest model (n_estimator=%f, max_depth=%f, min_samples_split=%f):\" % (n_estimator, max_depth,\n",
    "                                                                                        min_samples_split))\n",
    "    print(\"accuracy: %f\" % model_accuracy)\n",
    "\n",
    "\n",
    "def prepare_data(data_url):\n",
    "    # read data as df\n",
    "    try:\n",
    "        input_df = pd.read_csv(data_url, index_col=0)\n",
    "        input_df.head()\n",
    "    except Exception as e:\n",
    "        print(\n",
    "            \"Unable to read data from the giving path, check your data location. Error: %s\", e\n",
    "        )\n",
    "    # Prepare data for ml model\n",
    "    label = input_df.legendary\n",
    "    feature = input_df.drop(['legendary', 'generation', 'total'], axis=1).select_dtypes(exclude=['object'])\n",
    "    return feature, label\n"
   ]
  },
  {
   "cell_type": "code",
   "execution_count": 4,
   "id": "e56030a1-d86f-4714-8c28-18a75acb3aa2",
   "metadata": {},
   "outputs": [
    {
     "name": "stdout",
     "output_type": "stream",
     "text": [
      "https://minio.lab.sspcloud.fr/pengfei/sspcloud-demo/pokemon-cleaned.csv\n",
      "160\n",
      "RandomForest model (n_estimator=50.000000, max_depth=30.000000, min_samples_split=2.000000):\n",
      "accuracy: 0.925000\n"
     ]
    }
   ],
   "source": [
    "np.random.seed(40)\n",
    "# raw data \n",
    "data_url = \"https://minio.lab.sspcloud.fr/pengfei/sspcloud-demo/pokemon-cleaned.csv\"\n",
    "\n",
    "# prepare hyper parameters\n",
    "n_estimator = 50\n",
    "max_depth = 30\n",
    "min_samples_split = 2\n",
    "\n",
    "train_model(data_url,n_estimator, max_depth, min_samples_split)"
   ]
  },
  {
   "cell_type": "markdown",
   "id": "6514bfc3-5968-4e36-9f71-410e3890d954",
   "metadata": {},
   "source": [
    "## Step2: Train a model with model tracking tools"
   ]
  },
  {
   "cell_type": "markdown",
   "id": "61205c01-0671-4376-acfc-a41b21b24208",
   "metadata": {},
   "source": [
    "remote-run.sh\n",
    "\n",
    "```sh\n",
    "#! /bin/bash\n",
    "export MLFLOW_S3_ENDPOINT_URL='https://minio.lab.sspcloud.fr'\n",
    "export MLFLOW_TRACKING_URI='https://user-pengfei-531016.kub.sspcloud.fr/'\n",
    "export MLFLOW_EXPERIMENT_NAME=\"pokemon\"\n",
    "\n",
    "mlflow run https://github.com/pengfei99/mlflow-pokemon-example.git -P remote_server_uri=$MLFLOW_TRACKING_URI -P experiment_name=$MLFLOW_EXPERIMENT_NAME \\\n",
    "-P data_url=https://minio.lab.sspcloud.fr/pengfei/mlflow-demo/pokemon-partial.csv \\\n",
    "-P n_estimator=50 -P max_depth=30 -P min_samples_split=2\n",
    "```"
   ]
  },
  {
   "cell_type": "code",
   "execution_count": 5,
   "id": "91a4a911-ce3d-42bb-8975-2121fd1201fd",
   "metadata": {},
   "outputs": [
    {
     "name": "stdout",
     "output_type": "stream",
     "text": [
      "2022/05/23 15:33:49 INFO mlflow.projects.utils: === Fetching project from https://github.com/pengfei99/mlflow-pokemon-example.git into /tmp/tmptu08et6u ===\n",
      "2022/05/23 15:33:52 INFO mlflow.utils.conda: Conda environment mlflow-00d6eb3c61cb6060bb0061cb1ebb0b8779fc3e55 already exists.\n",
      "2022/05/23 15:33:52 INFO mlflow.projects.utils: === Created directory /tmp/tmplwx500qh for downloading remote URIs passed to arguments of type 'path' ===\n",
      "2022/05/23 15:33:52 INFO mlflow.projects.backend.local: === Running command 'source activate mlflow-00d6eb3c61cb6060bb0061cb1ebb0b8779fc3e55 1>&2 && python pokemon.py https://user-pengfei-531016.kub.sspcloud.fr/ pokemon default https://minio.lab.sspcloud.fr/pengfei/mlflow-demo/pokemon-partial.csv 50 30 2' in run with ID 'c3e442c52e524be193626a374bd48adf' === \n",
      "87\n",
      "RandomForest model (n_estimator=50.000000, max_depth=30.000000, min_samples_split=2.000000):\n",
      "accuracy: 0.942529\n",
      "2022/05/23 15:34:07 INFO mlflow.projects: === Run (ID 'c3e442c52e524be193626a374bd48adf') succeeded ===\n"
     ]
    }
   ],
   "source": [
    "! sh ../bash_command/remote-run.sh"
   ]
  },
  {
   "cell_type": "markdown",
   "id": "7b615d2c-78fa-401e-b541-f35b8ac13bc9",
   "metadata": {},
   "source": [
    "## Step3 Train many models in parallel"
   ]
  },
  {
   "cell_type": "code",
   "execution_count": 7,
   "id": "5f06492f-a240-4572-81ad-2a027adbccab",
   "metadata": {},
   "outputs": [
    {
     "name": "stdout",
     "output_type": "stream",
     "text": [
      "workflow.argoproj.io/pokemon-model-training-workflow-v1 created\n"
     ]
    }
   ],
   "source": [
    "! kubectl apply -f ../argo_workflow/workflow.yaml"
   ]
  },
  {
   "cell_type": "code",
   "execution_count": null,
   "id": "2bd508c7-548c-4a0d-bbec-77bde5af4b8d",
   "metadata": {},
   "outputs": [],
   "source": []
  }
 ],
 "metadata": {
  "kernelspec": {
   "display_name": "Python 3 (ipykernel)",
   "language": "python",
   "name": "python3"
  },
  "language_info": {
   "codemirror_mode": {
    "name": "ipython",
    "version": 3
   },
   "file_extension": ".py",
   "mimetype": "text/x-python",
   "name": "python",
   "nbconvert_exporter": "python",
   "pygments_lexer": "ipython3",
   "version": "3.9.12"
  }
 },
 "nbformat": 4,
 "nbformat_minor": 5
}
